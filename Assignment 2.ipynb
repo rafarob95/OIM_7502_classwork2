{
 "cells": [
  {
   "cell_type": "markdown",
   "id": "c441e4ca",
   "metadata": {},
   "source": [
    "# Assignment 2\n",
    "* In this assignment you will be working with three data files from iMDB:\n",
    "    * cast.csv\n",
    "    * release_dates.csv\n",
    "    * titles.csv\n",
    "* Using the appropriate file(s), answer the following questions\n",
    "* Some questions can be completed with one-liners while others are a bit more involved\n",
    "* Where appropriate, answers should also provide brief commentary\n",
    "* Exclude data that doen't make senss, i.e. data from the future\n",
    "* Once complete upload this notebook to your classwork Github repo and post the link on Canvas "
   ]
  },
  {
   "cell_type": "code",
   "execution_count": 1,
   "id": "f4594546",
   "metadata": {},
   "outputs": [],
   "source": [
    "import numpy as np\n",
    "import pandas as pd\n",
    "import matplotlib.pyplot as plt"
   ]
  },
  {
   "cell_type": "markdown",
   "id": "7f3efd04",
   "metadata": {},
   "source": [
    "### 1. Conduct a high level assessment of the three data files, i.e. how many records are there, what kind of data, etc. Summarize your findings with annotation. "
   ]
  },
  {
   "cell_type": "code",
   "execution_count": 2,
   "id": "03bc8314",
   "metadata": {},
   "outputs": [],
   "source": [
    "cast = pd.read_csv(\"data/cast.csv\")\n",
    "release_dates = pd.read_csv(\"data/release_dates.csv\")\n",
    "titles = pd.read_csv(\"data/titles.csv\")"
   ]
  },
  {
   "cell_type": "code",
   "execution_count": 3,
   "id": "4d058733",
   "metadata": {},
   "outputs": [
    {
     "name": "stdout",
     "output_type": "stream",
     "text": [
      "<class 'pandas.core.frame.DataFrame'>\n",
      "RangeIndex: 3442902 entries, 0 to 3442901\n",
      "Data columns (total 6 columns):\n",
      " #   Column     Dtype  \n",
      "---  ------     -----  \n",
      " 0   title      object \n",
      " 1   year       int64  \n",
      " 2   name       object \n",
      " 3   type       object \n",
      " 4   character  object \n",
      " 5   n          float64\n",
      "dtypes: float64(1), int64(1), object(4)\n",
      "memory usage: 157.6+ MB\n"
     ]
    }
   ],
   "source": [
    "cast.info()"
   ]
  },
  {
   "cell_type": "code",
   "execution_count": 4,
   "id": "68467f95",
   "metadata": {},
   "outputs": [
    {
     "name": "stdout",
     "output_type": "stream",
     "text": [
      "<class 'pandas.core.frame.DataFrame'>\n",
      "RangeIndex: 443486 entries, 0 to 443485\n",
      "Data columns (total 4 columns):\n",
      " #   Column   Non-Null Count   Dtype \n",
      "---  ------   --------------   ----- \n",
      " 0   title    443486 non-null  object\n",
      " 1   year     443486 non-null  int64 \n",
      " 2   country  443486 non-null  object\n",
      " 3   date     443486 non-null  object\n",
      "dtypes: int64(1), object(3)\n",
      "memory usage: 13.5+ MB\n"
     ]
    }
   ],
   "source": [
    "release_dates.info()"
   ]
  },
  {
   "cell_type": "code",
   "execution_count": 5,
   "id": "5f7dc465",
   "metadata": {},
   "outputs": [
    {
     "name": "stdout",
     "output_type": "stream",
     "text": [
      "<class 'pandas.core.frame.DataFrame'>\n",
      "RangeIndex: 226013 entries, 0 to 226012\n",
      "Data columns (total 2 columns):\n",
      " #   Column  Non-Null Count   Dtype \n",
      "---  ------  --------------   ----- \n",
      " 0   title   226013 non-null  object\n",
      " 1   year    226013 non-null  int64 \n",
      "dtypes: int64(1), object(1)\n",
      "memory usage: 3.4+ MB\n"
     ]
    }
   ],
   "source": [
    "titles.info()"
   ]
  },
  {
   "cell_type": "code",
   "execution_count": 6,
   "id": "56bce490",
   "metadata": {},
   "outputs": [
    {
     "data": {
      "text/plain": [
       "title              0\n",
       "year               0\n",
       "name               0\n",
       "type               0\n",
       "character          0\n",
       "n            1327783\n",
       "dtype: int64"
      ]
     },
     "execution_count": 6,
     "metadata": {},
     "output_type": "execute_result"
    }
   ],
   "source": [
    "cast.isnull().sum()"
   ]
  },
  {
   "cell_type": "code",
   "execution_count": 7,
   "id": "c3f3121b",
   "metadata": {},
   "outputs": [
    {
     "data": {
      "text/plain": [
       "title      0\n",
       "year       0\n",
       "country    0\n",
       "date       0\n",
       "dtype: int64"
      ]
     },
     "execution_count": 7,
     "metadata": {},
     "output_type": "execute_result"
    }
   ],
   "source": [
    "release_dates.isnull().sum()"
   ]
  },
  {
   "cell_type": "code",
   "execution_count": 8,
   "id": "2bcfefd9",
   "metadata": {},
   "outputs": [
    {
     "data": {
      "text/plain": [
       "title    0\n",
       "year     0\n",
       "dtype: int64"
      ]
     },
     "execution_count": 8,
     "metadata": {},
     "output_type": "execute_result"
    }
   ],
   "source": [
    "titles.isnull().sum()"
   ]
  },
  {
   "cell_type": "markdown",
   "id": "0401da64",
   "metadata": {},
   "source": [
    "Cast has 3442902 different entries, release dates have 443486 different entries and titles has 226013 different entries.\n",
    "each one is compromised by both object and integers data types. \n",
    "\n",
    "Cast is 157.6 mb's\n",
    "Release date is 13.5 mb's\n",
    "Titles is 3.4 mb's making it the smallest dataset.\n",
    "\n",
    "\n",
    "Cast does have null values in the 'n' column which represents the actor and their position. Meaning it should be something to look forward to when looking at the data frame."
   ]
  },
  {
   "cell_type": "markdown",
   "id": "8949aee1",
   "metadata": {},
   "source": [
    "### 2. How many movies have the title North by Northwest"
   ]
  },
  {
   "cell_type": "code",
   "execution_count": 9,
   "id": "712cba84",
   "metadata": {},
   "outputs": [
    {
     "data": {
      "text/html": [
       "<div>\n",
       "<style scoped>\n",
       "    .dataframe tbody tr th:only-of-type {\n",
       "        vertical-align: middle;\n",
       "    }\n",
       "\n",
       "    .dataframe tbody tr th {\n",
       "        vertical-align: top;\n",
       "    }\n",
       "\n",
       "    .dataframe thead th {\n",
       "        text-align: right;\n",
       "    }\n",
       "</style>\n",
       "<table border=\"1\" class=\"dataframe\">\n",
       "  <thead>\n",
       "    <tr style=\"text-align: right;\">\n",
       "      <th></th>\n",
       "      <th>title</th>\n",
       "      <th>year</th>\n",
       "    </tr>\n",
       "  </thead>\n",
       "  <tbody>\n",
       "    <tr>\n",
       "      <th>201761</th>\n",
       "      <td>North by Northwest</td>\n",
       "      <td>1959</td>\n",
       "    </tr>\n",
       "  </tbody>\n",
       "</table>\n",
       "</div>"
      ],
      "text/plain": [
       "                     title  year\n",
       "201761  North by Northwest  1959"
      ]
     },
     "execution_count": 9,
     "metadata": {},
     "output_type": "execute_result"
    }
   ],
   "source": [
    "titles[titles['title'].str.contains(\"North by Northwest\")]"
   ]
  },
  {
   "cell_type": "markdown",
   "id": "f433a49b",
   "metadata": {},
   "source": [
    "1 movie in 1959"
   ]
  },
  {
   "cell_type": "markdown",
   "id": "651191f3",
   "metadata": {},
   "source": [
    "### 3. How many version of Hamlet are there, when was the first made? the last?"
   ]
  },
  {
   "cell_type": "code",
   "execution_count": 10,
   "id": "1e421672",
   "metadata": {},
   "outputs": [
    {
     "data": {
      "text/plain": [
       "title    20\n",
       "year     20\n",
       "dtype: int64"
      ]
     },
     "execution_count": 10,
     "metadata": {},
     "output_type": "execute_result"
    }
   ],
   "source": [
    "titles[titles['title'] == \"Hamlet\"].sort_values(by=['year']).count()"
   ]
  },
  {
   "cell_type": "markdown",
   "id": "dd75ecc7",
   "metadata": {},
   "source": [
    "first one was in 1910 the last one was in 2017\n",
    "there are 20 versions"
   ]
  },
  {
   "cell_type": "markdown",
   "id": "5650b610",
   "metadata": {},
   "source": [
    "### 4. List all the movies called Treasure Island from oldest to newest"
   ]
  },
  {
   "cell_type": "code",
   "execution_count": 11,
   "id": "636611d9",
   "metadata": {
    "scrolled": true
   },
   "outputs": [
    {
     "data": {
      "text/html": [
       "<div>\n",
       "<style scoped>\n",
       "    .dataframe tbody tr th:only-of-type {\n",
       "        vertical-align: middle;\n",
       "    }\n",
       "\n",
       "    .dataframe tbody tr th {\n",
       "        vertical-align: top;\n",
       "    }\n",
       "\n",
       "    .dataframe thead th {\n",
       "        text-align: right;\n",
       "    }\n",
       "</style>\n",
       "<table border=\"1\" class=\"dataframe\">\n",
       "  <thead>\n",
       "    <tr style=\"text-align: right;\">\n",
       "      <th></th>\n",
       "      <th>title</th>\n",
       "      <th>year</th>\n",
       "    </tr>\n",
       "  </thead>\n",
       "  <tbody>\n",
       "    <tr>\n",
       "      <th>180911</th>\n",
       "      <td>Treasure Island</td>\n",
       "      <td>1918</td>\n",
       "    </tr>\n",
       "    <tr>\n",
       "      <th>108853</th>\n",
       "      <td>Treasure Island</td>\n",
       "      <td>1920</td>\n",
       "    </tr>\n",
       "    <tr>\n",
       "      <th>87953</th>\n",
       "      <td>Treasure Island</td>\n",
       "      <td>1934</td>\n",
       "    </tr>\n",
       "    <tr>\n",
       "      <th>126321</th>\n",
       "      <td>Treasure Island</td>\n",
       "      <td>1950</td>\n",
       "    </tr>\n",
       "    <tr>\n",
       "      <th>190233</th>\n",
       "      <td>Treasure Island</td>\n",
       "      <td>1972</td>\n",
       "    </tr>\n",
       "    <tr>\n",
       "      <th>122150</th>\n",
       "      <td>Treasure Island</td>\n",
       "      <td>1973</td>\n",
       "    </tr>\n",
       "    <tr>\n",
       "      <th>52099</th>\n",
       "      <td>Treasure Island</td>\n",
       "      <td>1985</td>\n",
       "    </tr>\n",
       "    <tr>\n",
       "      <th>36752</th>\n",
       "      <td>Treasure Island</td>\n",
       "      <td>1999</td>\n",
       "    </tr>\n",
       "  </tbody>\n",
       "</table>\n",
       "</div>"
      ],
      "text/plain": [
       "                  title  year\n",
       "180911  Treasure Island  1918\n",
       "108853  Treasure Island  1920\n",
       "87953   Treasure Island  1934\n",
       "126321  Treasure Island  1950\n",
       "190233  Treasure Island  1972\n",
       "122150  Treasure Island  1973\n",
       "52099   Treasure Island  1985\n",
       "36752   Treasure Island  1999"
      ]
     },
     "execution_count": 11,
     "metadata": {},
     "output_type": "execute_result"
    }
   ],
   "source": [
    "titles[titles['title'] == \"Treasure Island\"].sort_values(by=['year'])"
   ]
  },
  {
   "cell_type": "markdown",
   "id": "a94f4524",
   "metadata": {},
   "source": [
    "### 5. How many movies were made in 1950? 1980? 2000? What conclusions can you draw from these data points?"
   ]
  },
  {
   "cell_type": "code",
   "execution_count": 12,
   "id": "8d44bdb2",
   "metadata": {},
   "outputs": [
    {
     "data": {
      "text/plain": [
       "year\n",
       "1950    1109\n",
       "1980    1750\n",
       "2000    2568\n",
       "2019     975\n",
       "dtype: int64"
      ]
     },
     "execution_count": 12,
     "metadata": {},
     "output_type": "execute_result"
    }
   ],
   "source": [
    "titles[(titles['year'] == 1950) | (titles['year'] == 2019) | (titles['year'] == 1980) | (titles['year'] == 2000)].groupby('year').size()"
   ]
  },
  {
   "cell_type": "markdown",
   "id": "f05788bc",
   "metadata": {},
   "source": [
    "We can draw the conclusion that as the years went by more movies were made."
   ]
  },
  {
   "cell_type": "markdown",
   "id": "0c34799c",
   "metadata": {},
   "source": [
    "### 6. How big was the cast of Metropolis\n"
   ]
  },
  {
   "cell_type": "code",
   "execution_count": 13,
   "id": "4461cc46",
   "metadata": {},
   "outputs": [
    {
     "data": {
      "text/plain": [
       "title        33\n",
       "year         33\n",
       "name         33\n",
       "type         33\n",
       "character    33\n",
       "n             9\n",
       "dtype: int64"
      ]
     },
     "execution_count": 13,
     "metadata": {},
     "output_type": "execute_result"
    }
   ],
   "source": [
    "cast[cast['title'] == \"Metropolis\"].count()"
   ]
  },
  {
   "cell_type": "markdown",
   "id": "651a1ab2",
   "metadata": {},
   "source": [
    "33 individuals"
   ]
  },
  {
   "cell_type": "markdown",
   "id": "7dead3d7",
   "metadata": {},
   "source": [
    "### 7. How many roles for actors were there 1950's? 1990's"
   ]
  },
  {
   "cell_type": "code",
   "execution_count": 14,
   "id": "9f7336d3",
   "metadata": {},
   "outputs": [
    {
     "name": "stdout",
     "output_type": "stream",
     "text": [
      "Number of roles for actors in the 1950s: {num_roles_1950s}\n",
      "Number of roles for actors in the 1990s: {num_roles_1990s}\n"
     ]
    }
   ],
   "source": [
    "roles_1950s = cast[(cast['year'] >= 1950) & (cast['year'] < 1960) & (cast['type'] == 'actor')]\n",
    "roles_1990s = cast[(cast['year'] >= 1990) & (cast['year'] < 2000) & (cast['type'] == 'actor')]\n",
    "num_roles_1950s = len(roles_1950s)\n",
    "num_roles_1990s = len(roles_1990s)\n",
    "\n",
    "print('Number of roles for actors in the 1950s: {num_roles_1950s}')\n",
    "print('Number of roles for actors in the 1990s: {num_roles_1990s}')"
   ]
  },
  {
   "cell_type": "markdown",
   "id": "3c5ad9f2",
   "metadata": {},
   "source": [
    "### 8. How many roles for actors & actresses over time? Output should be a line graph"
   ]
  },
  {
   "cell_type": "code",
   "execution_count": 15,
   "id": "a4401c78",
   "metadata": {},
   "outputs": [
    {
     "data": {
      "image/png": "[encoded data removed]",
      "text/plain": [
       "<Figure size 640x480 with 1 Axes>"
      ]
     },
     "metadata": {},
     "output_type": "display_data"
    }
   ],
   "source": [
    "roles_over_time = cast[(cast['type'].isin(['actor', 'actress'])) & (cast['year'] <= 2017)].groupby(['year', 'type']).size().unstack().fillna(0)\n",
    "\n",
    "\n",
    "roles_over_time.plot(kind='line', marker='o')\n",
    "\n",
    "\n",
    "plt.show()"
   ]
  },
  {
   "cell_type": "markdown",
   "id": "5e3a04c7",
   "metadata": {},
   "source": [
    "### 9. How many \"leading roles\" were there in the 2000's?"
   ]
  },
  {
   "cell_type": "code",
   "execution_count": 16,
   "id": "01cc5e7f",
   "metadata": {},
   "outputs": [
    {
     "name": "stdout",
     "output_type": "stream",
     "text": [
      "Number of leading roles in the 2000s: {num_leading_roles_2000s}\n"
     ]
    }
   ],
   "source": [
    "\n",
    "leading_roles_2000s = cast[(cast['year'] >= 2000) & (cast['year'] < 2010) & (cast['n'] == 1.0)]\n",
    "\n",
    "num_leading_roles_2000s = len(leading_roles_2000s)\n",
    "\n",
    "print('Number of leading roles in the 2000s: {num_leading_roles_2000s}')"
   ]
  },
  {
   "cell_type": "markdown",
   "id": "a60c91b4",
   "metadata": {},
   "source": [
    "### 10. How many roles received no ranking in the 2000's? 1950's. What conclusions can you draw from these two data points?"
   ]
  },
  {
   "cell_type": "code",
   "execution_count": 17,
   "id": "4b729250",
   "metadata": {},
   "outputs": [
    {
     "name": "stdout",
     "output_type": "stream",
     "text": [
      "Number of roles with no ranking in the 2000s: {num_no_ranking_2000s}\n",
      "Number of roles with no ranking in the 1950s: {num_no_ranking_1950s}\n"
     ]
    }
   ],
   "source": [
    "\n",
    "no_ranking_2000s = cast[(cast['year'] >= 2000) & (cast['year'] < 2010) & (cast['n'].isnull())]\n",
    "\n",
    "\n",
    "no_ranking_1950s = cast[(cast['year'] >= 1950) & (cast['year'] < 1960) & (cast['n'].isnull())]\n",
    "\n",
    "num_no_ranking_2000s = len(no_ranking_2000s)\n",
    "num_no_ranking_1950s = len(no_ranking_1950s)\n",
    "\n",
    "print('Number of roles with no ranking in the 2000s: {num_no_ranking_2000s}')\n",
    "print('Number of roles with no ranking in the 1950s: {num_no_ranking_1950s}')"
   ]
  },
  {
   "cell_type": "markdown",
   "id": "33d9c249",
   "metadata": {},
   "source": [
    "### 11. Plot the number of films made in each decade"
   ]
  },
  {
   "cell_type": "code",
   "execution_count": 18,
   "id": "3f6c5b5a",
   "metadata": {},
   "outputs": [
    {
     "data": {
      "image/png": "[encoded data removed]",
      "text/plain": [
       "<Figure size 640x480 with 1 Axes>"
      ]
     },
     "metadata": {},
     "output_type": "display_data"
    }
   ],
   "source": [
    "\n",
    "titles['decade'] = titles['year'] // 10 * 10\n",
    "\n",
    "\n",
    "films_per_decade = titles.groupby('decade').size()\n",
    "\n",
    "\n",
    "films_per_decade.plot(kind='bar', rot=45, color='skyblue')\n",
    "\n",
    "\n",
    "plt.show()"
   ]
  },
  {
   "cell_type": "markdown",
   "id": "7b8b93e3",
   "metadata": {},
   "source": [
    "### 12. Plot the number of films with a Rustler character over time"
   ]
  },
  {
   "cell_type": "code",
   "execution_count": 19,
   "id": "ed1bce02",
   "metadata": {},
   "outputs": [
    {
     "data": {
      "image/png": "[encoded data removed]",
      "text/plain": [
       "<Figure size 640x480 with 1 Axes>"
      ]
     },
     "metadata": {},
     "output_type": "display_data"
    }
   ],
   "source": [
    "\n",
    "rustler_roles = cast[cast['character'] == 'Rustler']\n",
    "\n",
    "\n",
    "merged_data = pd.concat([rustler_roles, titles], ignore_index=True)\n",
    "\n",
    "\n",
    "films_with_rustler_per_decade = merged_data.groupby('decade').size()\n",
    "\n",
    "\n",
    "films_with_rustler_per_decade.plot(kind='bar', rot=45, color='green')\n",
    "\n",
    "\n",
    "\n",
    "plt.show()"
   ]
  },
  {
   "cell_type": "markdown",
   "id": "1df5a8a7",
   "metadata": {},
   "source": [
    "### 13. What are the top ten character names of all time?"
   ]
  },
  {
   "cell_type": "code",
   "execution_count": 20,
   "id": "fc30c391",
   "metadata": {},
   "outputs": [
    {
     "name": "stdout",
     "output_type": "stream",
     "text": [
      "Top Ten Character Names of All Time:\n",
      "Bess Flowers       820\n",
      "Herman Hack        698\n",
      "Sam (II) Harris    656\n",
      "Lee Phelps         615\n",
      "Harold Miller      613\n",
      "Frank O'Connor     598\n",
      "Franklyn Farnum    561\n",
      "Tom London         560\n",
      "Larry Steers       553\n",
      "Frank Ellis        545\n",
      "Name: name, dtype: int64\n"
     ]
    }
   ],
   "source": [
    "top_character_names = cast['name'].value_counts().head(10)\n",
    "\n",
    "print(\"Top Ten Character Names of All Time:\")\n",
    "print(top_character_names)"
   ]
  },
  {
   "cell_type": "markdown",
   "id": "febd5c97",
   "metadata": {},
   "source": [
    "### 14. Which actor appeared in the most films in the 1990's decade?"
   ]
  },
  {
   "cell_type": "code",
   "execution_count": 21,
   "id": "ed10c4df",
   "metadata": {},
   "outputs": [
    {
     "name": "stdout",
     "output_type": "stream",
     "text": [
      "The actor who appeared in the most films in the 1990s is {most_appearances_actor} with {num_appearances} appearances.\n"
     ]
    }
   ],
   "source": [
    "\n",
    "actors_1990s = cast[(cast['year'] >= 1990) & (cast['year'] < 2000) & (cast['type'] == 'actor')]\n",
    "\n",
    "\n",
    "actor_appearances_1990s = actors_1990s['name'].value_counts()\n",
    "\n",
    "most_appearances_actor = actor_appearances_1990s.idxmax()\n",
    "num_appearances = actor_appearances_1990s.max()\n",
    "\n",
    "print(\"The actor who appeared in the most films in the 1990s is {most_appearances_actor} with {num_appearances} appearances.\")"
   ]
  },
  {
   "cell_type": "markdown",
   "id": "b2d57a18",
   "metadata": {},
   "source": [
    "### 15. What are the top 10 roles that start with Science?"
   ]
  },
  {
   "cell_type": "code",
   "execution_count": 22,
   "id": "64b41362",
   "metadata": {},
   "outputs": [
    {
     "name": "stdout",
     "output_type": "stream",
     "text": [
      "Top 10 Roles that Start with 'Science':\n",
      "Science Teacher         57\n",
      "Science Fair Student     9\n",
      "Science Student          6\n",
      "Science Fair Judge       6\n",
      "Science Fair Kid         5\n",
      "Science Reporter         5\n",
      "Science Kid              5\n",
      "Science                  4\n",
      "Science Fair Teacher     3\n",
      "Science Officer          3\n",
      "Name: character, dtype: int64\n"
     ]
    }
   ],
   "source": [
    "science_roles = cast[cast['character'].str.lower().str.startswith('science', na=False)]\n",
    "\n",
    "top_10_science_roles = science_roles['character'].value_counts().head(10)\n",
    "\n",
    "print(\"Top 10 Roles that Start with 'Science':\")\n",
    "print(top_10_science_roles)"
   ]
  },
  {
   "cell_type": "markdown",
   "id": "7e37caf3",
   "metadata": {},
   "source": [
    "### 16. What film has the largest cast"
   ]
  },
  {
   "cell_type": "code",
   "execution_count": 23,
   "id": "1de674fc",
   "metadata": {},
   "outputs": [
    {
     "name": "stdout",
     "output_type": "stream",
     "text": [
      "The film with the largest cast is '{film_with_largest_cast}' with a cast size of {film_cast_counts.max()}.\n"
     ]
    }
   ],
   "source": [
    "\n",
    "film_cast_counts = cast['title'].value_counts()\n",
    "\n",
    "film_with_largest_cast = film_cast_counts.idxmax()\n",
    "\n",
    "print(\"The film with the largest cast is '{film_with_largest_cast}' with a cast size of {film_cast_counts.max()}.\")"
   ]
  },
  {
   "cell_type": "markdown",
   "id": "3a1a26ba",
   "metadata": {},
   "source": [
    "### 17. Generate descriptive statistics for cast size. Briefly comment on the results"
   ]
  },
  {
   "cell_type": "code",
   "execution_count": 24,
   "id": "b0592c92",
   "metadata": {},
   "outputs": [
    {
     "name": "stdout",
     "output_type": "stream",
     "text": [
      "Descriptive Statistics for Cast Sizes:\n",
      "                 year           name           type      character  \\\n",
      "count  168255.000000  168255.000000  168255.000000  168255.000000   \n",
      "mean       20.462405      20.462405      20.462405      20.462405   \n",
      "std        24.206617      24.206617      24.206617      24.206617   \n",
      "min         1.000000       1.000000       1.000000       1.000000   \n",
      "25%         6.000000       6.000000       6.000000       6.000000   \n",
      "50%        13.000000      13.000000      13.000000      13.000000   \n",
      "75%        26.000000      26.000000      26.000000      26.000000   \n",
      "max      1364.000000    1364.000000    1364.000000    1364.000000   \n",
      "\n",
      "                   n  \n",
      "count  168255.000000  \n",
      "mean       12.570913  \n",
      "std        17.335955  \n",
      "min         0.000000  \n",
      "25%         1.000000  \n",
      "50%         8.000000  \n",
      "75%        16.000000  \n",
      "max       688.000000  \n"
     ]
    }
   ],
   "source": [
    "cast_size_film = cast.groupby('title').count()\n",
    "cast_size_statistics = cast_size_film.describe()\n",
    "print(\"Descriptive Statistics for Cast Sizes:\\n\", cast_size_statistics)"
   ]
  },
  {
   "cell_type": "markdown",
   "id": "78b459ab",
   "metadata": {},
   "source": [
    "Therer are 168,255 number of casts. The average cast members per film is 20.4. The max is 1364 which concurrs with the previous question. 75% have 17. "
   ]
  },
  {
   "cell_type": "markdown",
   "id": "57885f86",
   "metadata": {},
   "source": [
    "### 18. How many films has Natalie Portman been in in each year throughout her career?"
   ]
  },
  {
   "cell_type": "code",
   "execution_count": 25,
   "id": "e2457352",
   "metadata": {},
   "outputs": [
    {
     "name": "stdout",
     "output_type": "stream",
     "text": [
      "Number of films Natalie Portman has been in each year:\n",
      "year\n",
      "1995    1\n",
      "1996    3\n",
      "1999    3\n",
      "2000    1\n",
      "2001    1\n",
      "2002    1\n",
      "2003    1\n",
      "2004    2\n",
      "2005    4\n",
      "2006    2\n",
      "2007    3\n",
      "2008    1\n",
      "2009    2\n",
      "2010    4\n",
      "2011    3\n",
      "2013    1\n",
      "2015    4\n",
      "2016    3\n",
      "2017    1\n",
      "dtype: int64\n"
     ]
    }
   ],
   "source": [
    "\n",
    "natalie_portman_films = cast[cast['name'] == 'Natalie Portman']\n",
    "\n",
    "\n",
    "films_per_year = natalie_portman_films.groupby('year').size()\n",
    "\n",
    "\n",
    "print(\"Number of films Natalie Portman has been in each year:\")\n",
    "print(films_per_year)"
   ]
  },
  {
   "cell_type": "markdown",
   "id": "1bff19c5",
   "metadata": {},
   "source": [
    "### 19. How many films did Natalie Portman appear in each year where where she was either the top star or co-star?"
   ]
  },
  {
   "cell_type": "code",
   "execution_count": 26,
   "id": "e2f4d043",
   "metadata": {},
   "outputs": [
    {
     "name": "stdout",
     "output_type": "stream",
     "text": [
      "Number of films Natalie Portman appeared in each year as top star or co-star:\n",
      "year\n",
      "1999    1\n",
      "2000    1\n",
      "2002    1\n",
      "2005    3\n",
      "2006    2\n",
      "2007    1\n",
      "2008    1\n",
      "2009    1\n",
      "2010    2\n",
      "2011    2\n",
      "2013    1\n",
      "2015    2\n",
      "2016    2\n",
      "dtype: int64\n"
     ]
    }
   ],
   "source": [
    "\n",
    "natalie_portman_films = cast[(cast['name'] == 'Natalie Portman') & ((cast['n'] == 1.0) | (cast['n'] == 2.0))]\n",
    "\n",
    "\n",
    "films_per_year = natalie_portman_films.groupby('year').size()\n",
    "\n",
    "\n",
    "print(\"Number of films Natalie Portman appeared in each year as top star or co-star:\")\n",
    "print(films_per_year)"
   ]
  },
  {
   "cell_type": "markdown",
   "id": "8eda704b",
   "metadata": {},
   "source": [
    "### 20. Determine how many roles for actor or actress by decade. Plot the output "
   ]
  },
  {
   "cell_type": "code",
   "execution_count": 27,
   "id": "6abd6fe1",
   "metadata": {},
   "outputs": [
    {
     "data": {
      "image/png": "[encoded data removed]",
      "text/plain": [
       "<Figure size 640x480 with 1 Axes>"
      ]
     },
     "metadata": {},
     "output_type": "display_data"
    }
   ],
   "source": [
    "import pandas as pd\n",
    "import matplotlib.pyplot as plt\n",
    "\n",
    "combined_data = pd.merge(cast, titles, on=['title', 'year'])\n",
    "\n",
    "\n",
    "actor_actress_roles = combined_data[combined_data['type'].isin(['actor', 'actress'])]\n",
    "\n",
    "\n",
    "actor_actress_roles['decade'] = actor_actress_roles['year'] // 10 * 10\n",
    "\n",
    "\n",
    "roles_by_decade = actor_actress_roles.groupby(['decade', 'type']).size().unstack().fillna(0)\n",
    "\n",
    "\n",
    "roles_by_decade.plot(kind='bar', stacked=True)\n",
    "\n",
    "\n",
    "plt.title('Number of Roles for Actors and Actresses by Decade')\n",
    "plt.xlabel('Decade')\n",
    "plt.ylabel('Number of Roles')\n",
    "plt.xticks(rotation=45)  # Rotate x-axis labels for better readability\n",
    "\n",
    "\n",
    "plt.legend(title='Type')\n",
    "plt.tight_layout()  # Adjust layout to prevent clipping of labels\n",
    "plt.show()"
   ]
  },
  {
   "cell_type": "markdown",
   "id": "fffe663b",
   "metadata": {},
   "source": [
    "### 21. Determine and comment on the day of the week that movies are released. What is notable about release days and months throughout the year? (Use pd.pivot_table)"
   ]
  },
  {
   "cell_type": "code",
   "execution_count": 31,
   "id": "5d3f6e03",
   "metadata": {},
   "outputs": [
    {
     "name": "stdout",
     "output_type": "stream",
     "text": [
      "Movies Released by Day of the Week:\n",
      "day_of_week\n",
      "Friday       163174\n",
      "Monday        37210\n",
      "Saturday      31332\n",
      "Sunday        15823\n",
      "Thursday     125746\n",
      "Tuesday       16762\n",
      "Wednesday     53439\n",
      "dtype: int64\n",
      "\n",
      "Movies Released by Month:\n",
      "month\n",
      "April        37674\n",
      "August       35011\n",
      "December     39096\n",
      "February     36307\n",
      "January      39412\n",
      "July         31421\n",
      "June         32704\n",
      "March        40257\n",
      "May          35449\n",
      "November     38201\n",
      "October      40204\n",
      "September    37750\n",
      "dtype: int64\n"
     ]
    }
   ],
   "source": [
    "\n",
    "release_dates['date'] = pd.to_datetime(release_dates['date'])\n",
    "\n",
    "\n",
    "release_dates['day_of_week'] = release_dates['date'].dt.day_name()\n",
    "release_dates['month'] = release_dates['date'].dt.month_name()\n",
    "\n",
    "\n",
    "pivot_table_day_of_week = pd.pivot_table(release_dates, index='day_of_week', aggfunc='size')\n",
    "pivot_table_month = pd.pivot_table(release_dates, index='month', aggfunc='size')\n",
    "\n",
    "\n",
    "print(\"Movies Released by Day of the Week:\")\n",
    "print(pivot_table_day_of_week)\n",
    "print(\"\\nMovies Released by Month:\")\n",
    "print(pivot_table_month)"
   ]
  },
  {
   "cell_type": "markdown",
   "id": "88b4b805",
   "metadata": {},
   "source": [
    "### 22. Can you plot the pivot table? Is the output \"correct\"? Can you fix it?"
   ]
  },
  {
   "cell_type": "code",
   "execution_count": 32,
   "id": "07152c8b",
   "metadata": {},
   "outputs": [
    {
     "data": {
      "image/png": "[encoded data removed]",
      "text/plain": [
       "<Figure size 1000x600 with 1 Axes>"
      ]
     },
     "metadata": {},
     "output_type": "display_data"
    },
    {
     "data": {
      "image/png": "[encoded data removed]",
      "text/plain": [
       "<Figure size 1000x600 with 1 Axes>"
      ]
     },
     "metadata": {},
     "output_type": "display_data"
    }
   ],
   "source": [
    "\n",
    "plt.figure(figsize=(10, 6))\n",
    "pivot_table_day_of_week.plot(kind='bar', color='skyblue')\n",
    "plt.title('Movies Released by Day of the Week')\n",
    "plt.xlabel('Day of the Week')\n",
    "plt.ylabel('Number of Movies')\n",
    "plt.xticks(rotation=45)\n",
    "plt.grid(axis='y')\n",
    "plt.tight_layout()\n",
    "plt.show()\n",
    "\n",
    "\n",
    "plt.figure(figsize=(10, 6))\n",
    "pivot_table_month.plot(kind='bar', color='lightgreen')\n",
    "plt.title('Movies Released by Month')\n",
    "plt.xlabel('Month')\n",
    "plt.ylabel('Number of Movies')\n",
    "plt.xticks(rotation=45)\n",
    "plt.grid(axis='y')\n",
    "plt.tight_layout()\n",
    "plt.show()\n",
    "\n",
    "#it is indeed correct"
   ]
  },
  {
   "cell_type": "markdown",
   "id": "19fc8bc4",
   "metadata": {},
   "source": [
    "### 23. What films did actors in Star Wars go on to appear in? "
   ]
  },
  {
   "cell_type": "code",
   "execution_count": 33,
   "id": "35e5f456",
   "metadata": {},
   "outputs": [
    {
     "name": "stdout",
     "output_type": "stream",
     "text": [
      "Films that actors in Star Wars went on to appear in:\n",
      "['Every Little Crook and Nanny' 'Linda Lovelace for President' 'Rogue One'\n",
      " 'Smorgasbord' 'The Roommates' 'The Sting II' 'The Student Body'\n",
      " 'The Zebra Force' \"Adventures of a Plumber's Mate\"\n",
      " 'Adventures of a Private Eye' 'Adventures of a Taxi Driver'\n",
      " 'Alfie Darling' 'Big Zapper' 'Eskimo Nell' 'Hennessy'\n",
      " 'Licensed to Love and Kill' 'The Deadly Females' 'The Fast Kill'\n",
      " 'The Night My Number Came Up' 'The Swordsman' 'Track the Man Down'\n",
      " '24 Hour Party People' 'Amadeus' 'Flash Gordon' 'Labyrinth' 'Mona Lisa'\n",
      " 'Sleeping Beauty' 'Star Wars: Episode I - The Phantom Menace'\n",
      " 'Star Wars: Episode II - Attack of the Clones'\n",
      " 'Star Wars: Episode III - Revenge of the Sith'\n",
      " 'Star Wars: Episode V - The Empire Strikes Back'\n",
      " 'Star Wars: Episode VI - Return of the Jedi' 'The Elephant Man'\n",
      " 'The King and I' 'Time Bandits' 'U.F.O.' 'Willow' 'Wombling Free'\n",
      " 'American Graffiti' 'Bizarre Devices'\n",
      " \"Bon Voyage, Charlie Brown (and Don't Come Back!!)\" 'Bullitt'\n",
      " 'Chu Chu and the Philly Flash' 'Getting Even with Dad' 'Mrs. Doubtfire'\n",
      " 'One Is a Lonely Number' 'Out' 'Stand by Me' 'The Grizzly & the Treasure'\n",
      " 'The Right Stuff' 'The Second Coming of Suzanne' 'THX 1138'\n",
      " 'To Be or Not to Be' 'Tucker: The Man and His Dream' 'Bad Blood'\n",
      " 'Some of My Best Friends Are' 'The Second Victory' 'A King in New York'\n",
      " 'Bomba u 10 i 10' 'Calling Dr. Gillespie' 'Chaplin' 'Give Us This Day'\n",
      " 'H.M. Pulham, Esq.' 'Hello, Annapolis' 'I Wanted Wings'\n",
      " 'If You Knew Susie' 'John Paul Jones' \"Johnny O'Clock\" 'Land Raiders'\n",
      " \"Miss Beatty's Children\" 'Moonrise' 'Obsession' 'Ooh... You Are Awful'\n",
      " 'Operation Cross Eagles' 'Over 21' 'Pierre of the Plains' 'Scalawag'\n",
      " 'Silver Bears' 'State Fair' 'Superman' 'The Adding Machine'\n",
      " 'The Bedford Incident' 'The Boy Cried Murder' 'The Camp on Blood Island'\n",
      " 'The Counterfeit Traitor' 'The Green Scarf' 'The Impatient Years'\n",
      " 'The Killers' 'The Luck of the Irish' 'The Pink Panther Strikes Again'\n",
      " 'The Romantic Englishwoman' 'Togetherness' 'Tropic of Cancer'\n",
      " \"Twilight's Last Gleaming\" 'Valdez Is Coming' 'Without Reservations'\n",
      " 'A Hitch in Time' 'Britannia Hospital' \"Let's Get Laid\"\n",
      " 'A Kid for Two Farthings' 'Albert, R.N.' 'All Coppers Are...'\n",
      " 'Aunt Clara' 'Beautiful Stranger' 'Captain Boycott' 'Children Galore'\n",
      " 'Dunkirk' 'Face in the Night' 'Floods of Fear' 'Guns in the Heather'\n",
      " 'Happy Ever After' 'Hungry Hill' \"I Can't... I Can't\"\n",
      " 'I See a Dark Stranger' \"It's Great to Be Young!\" 'Jackpot'\n",
      " 'Johnny Nobody' 'Lady Godiva Rides Again' 'Locker 69'\n",
      " 'Mutiny on the Bounty' 'Never Mind the Quality: Feel the Width'\n",
      " 'Odd Man Out' 'One Way Out' 'Reach for the Sky' 'Rooney'\n",
      " 'Seven Waves Away' 'Sinful Davey' 'Stolen Assignment'\n",
      " 'The Admirable Crichton' 'The Bridal Path' 'The Bulldog Breed'\n",
      " 'The Cracksman' 'The Divided Heart' 'The Extra Day' 'The Gentle Gunman'\n",
      " 'The MacKintosh Man' 'The Man in the Sky' 'The Mark' 'The Pot Carriers'\n",
      " 'The Punch and Judy Man' 'The Running Man' 'The Scapegoat'\n",
      " 'The Sea Shall Not Have Them' 'The Shakedown' 'The Square Ring'\n",
      " 'The Thief and the Cobbler' 'These Dangerous Years'\n",
      " 'Time, Gentlemen, Please!' 'Trouble in the Glen' \"Where's Jack?\"\n",
      " 'Wonderful Things!' 'Zarak' 'Instant Death' 'Scrapper' 'A View to a Kill'\n",
      " 'Burning an Illusion' 'Carry on Cowboy' 'Gentry' 'Moon Zero Two'\n",
      " 'Morgan: A Suitable Case for Treatment' 'The Holcroft Covenant'\n",
      " \"The Wildcats of St. Trinian's\" 'A Chump at Oxford' 'A Touch of the Sun'\n",
      " 'Alexander the Great' 'Arabian Adventure' 'Asalto al casino'\n",
      " \"At the Earth's Core\" 'Biggles' 'Cash on Demand' 'Cone of Silence'\n",
      " \"Daleks' Invasion Earth 2150 A.D.\" 'Die Standarte'\n",
      " 'Dr. Who and the Daleks' \"Fury at Smugglers' Bay\" 'Hamlet' 'Laddie'\n",
      " 'Lolita' 'Magic Fire' 'Moulin Rouge' 'One More Time' 'Shatter' 'She'\n",
      " 'Some May Live' 'Son of Hitler' 'Suspect' 'Sword of Sherwood Forest'\n",
      " 'Sword of the Valiant: The Legend of Sir Gawain and the Green Knight'\n",
      " 'The Black Knight' 'The End of the Affair' 'The Hellfire Club'\n",
      " 'The Howards of Virginia' 'The Man in the Iron Mask'\n",
      " 'The Man Who Finally Died' 'The Naked Edge' 'They Dare Not Love'\n",
      " 'Time Without Pity' 'Top Secret!' 'Trial by Combat' 'Vigil in the Night'\n",
      " 'Violent Playground' 'Women in War' 'Bruges-La-Morte'\n",
      " 'Ralph Breaks the Internet: Wreck-It Ralph 2'\n",
      " 'Star Wars: Episode VII - The Force Awakens' 'Star Wars: The Clone Wars'\n",
      " 'The LEGO Movie' 'The Lord of the Rings' 'Candleshoe'\n",
      " 'Crossroads to Crime' 'Highlander' 'Ik ben Joep Meloen' 'Nate and Hayes'\n",
      " 'Raiders of the Lost Ark' 'Superman IV: The Quest for Peace'\n",
      " 'The Dam Busters' 'The Face of Fu Manchu' 'The Pleasure Girls'\n",
      " 'Victor Victoria' '101 Dalmatians' 'A Challenge for Robin Hood'\n",
      " 'A Nightingale Sang in Berkeley Square' 'Agatha'\n",
      " 'Anne of the Thousand Days' 'Attack on the Iron Coast'\n",
      " 'Battle of Britain' 'Billion Dollar Brain' 'Birth of the Beatles'\n",
      " 'Bless This House' 'Brannigan' 'Breaking Glass' 'Carry on Abroad'\n",
      " 'Carry on Dick' 'Carry on Henry' 'Carry On... Follow That Camel'\n",
      " 'Carry On... Up the Khyber' 'Chitty Chitty Bang Bang' 'Cromwell'\n",
      " 'Dance with a Stranger' 'Diana & Me' 'Empire State' 'Entrapment' 'Evita'\n",
      " 'FairyTale: A True Story' 'Fiddler on the Roof' 'First Knight'\n",
      " 'Force 10 from Navarone' 'Fords on Water' 'Frenzy' 'Go for a Take'\n",
      " 'Hawks' 'History of the World: Part I' 'Holiday on the Buses'\n",
      " 'Hostile Witness' 'Husbands' 'Inadmissible Evidence' 'Incognito'\n",
      " 'Lisztomania' 'Loch Ness' 'McVicar' 'Mission: Impossible' \"Murphy's War\"\n",
      " 'Mutiny on the Buses' 'Nobody Runs Forever' 'Oliver!' 'Otley' 'Percy'\n",
      " 'Pink Floyd: The Wall' 'Plenty' 'Pope Joan' 'Quadrophenia' 'Ragtime'\n",
      " 'Reds' 'Salt and Pepper' 'Savage Messiah' 'Say Hello to Yesterday'\n",
      " 'Soft Beds, Hard Battles' 'Star!' 'Steptoe and Son' 'Superman II'\n",
      " 'Sweeney 2' 'Sweeney!' 'The Assassination Bureau' 'The Bitch'\n",
      " 'The Bliss of Mrs. Blossom' 'The Charge of the Light Brigade'\n",
      " 'The Eagle Has Landed' 'The Jackal' 'The Last Valley' 'The Likely Lads'\n",
      " 'The Long Good Friday' 'The Magnificent Two'\n",
      " 'The Man Who Knew Too Little' 'The Music Lovers' 'The Pied Piper'\n",
      " 'The Revolutionary' 'The Seven-Per-Cent Solution' 'The Tamarind Seed'\n",
      " 'The Thirty-Nine Steps' 'The Vengeance of She' 'Three Sisters'\n",
      " 'True Blue' 'Valentino' 'Voyage of the Damned' 'When Eight Bells Toll'\n",
      " 'Where Eagles Dare' 'Where Is Parsifal?' 'Who Dares Wins' 'Wilde' 'Yanks'\n",
      " '42' 'A Time for Killing' 'Air Force One'\n",
      " 'Anchorman 2: The Legend Continues' 'Apocalypse Now' 'Blade Runner'\n",
      " 'Blade Runner 2049' 'Clear and Present Danger' 'Cowboys & Aliens'\n",
      " 'Crossing Over' 'Dead Heat on a Merry-Go-Round' \"Ender's Game\"\n",
      " 'Extraordinary Measures' 'Firewall' 'Frantic' 'Getting Straight'\n",
      " 'Hanover Street' 'Heroes' 'Hollywood Homicide'\n",
      " 'Indiana Jones and the Kingdom of the Crystal Skull'\n",
      " 'Indiana Jones and the Last Crusade'\n",
      " 'Indiana Jones and the Temple of Doom' 'Jimmy Hollywood'\n",
      " 'Journey to Shiloh' 'K-19: The Widowmaker' 'Luv' 'More American Graffiti'\n",
      " 'Morning Glory' 'Paranoia' 'Patriot Games' 'Presumed Innocent'\n",
      " 'Random Hearts' 'Regarding Henry' 'Sabrina' 'Six Days Seven Nights'\n",
      " 'The Age of Adaline' 'The Conversation' \"The Devil's Own\"\n",
      " 'The Expendables 3' 'The Frisco Kid' 'The Fugitive' 'The Mosquito Coast'\n",
      " 'Untitled Indiana Jones Project' 'Witness' 'Working Girl'\n",
      " 'Zabriskie Point' 'Broken (IV)' 'Dorian Gray' 'Hotel Splendide' 'Pan'\n",
      " 'Summer Holiday' 'Ali G Indahouse' 'Fred Claus' 'Funny Bones'\n",
      " 'Harry Potter and the Deathly Hallows: Part 2'\n",
      " 'Harry Potter and the Half-Blood Prince'\n",
      " 'Harry Potter and the Order of the Phoenix'\n",
      " \"Harry Potter and the Sorcerer's Stone\" 'Mirrormask'\n",
      " 'Mrs Henderson Presents' 'Willy Wonka & the Chocolate Factory'\n",
      " 'The Love Child' 'A Handful of Dust' 'A Majority of One'\n",
      " 'A Passage to India' 'A Run for Your Money' 'Barnacle Bill'\n",
      " 'Doctor Zhivago' 'Evensong' 'Father Brown' 'Fratello sole, sorella luna'\n",
      " 'Great Expectations' 'H.M.S. Defiant' 'Hitler: The Last Ten Days'\n",
      " 'Hotel Paradiso' 'Kafka' 'Kind Hearts and Coronets' 'Last Holiday'\n",
      " 'Lawrence of Arabia' 'Little Dorrit' 'Lovesick' 'Malta Story'\n",
      " 'Murder by Death' 'Oliver Twist' 'Our Man in Havana' 'Raise the Titanic'\n",
      " 'Scrooge' 'Situation Hopeless... But Not Serious'\n",
      " 'The Bridge on the River Kwai' \"The Captain's Paradise\" 'The Card'\n",
      " 'The Comedians' 'The Fall of the Roman Empire' 'The Geisha Boy'\n",
      " \"The Horse's Mouth\" 'The Ladykillers' 'The Lavender Hill Mob'\n",
      " 'The Man in the White Suit' 'The Mudlark' 'The Prisoner'\n",
      " 'The Quiller Memorandum' 'The Swan' 'To Paris with Love' 'Tunes of Glory'\n",
      " 'A Bridge Too Far' 'Almost Heaven' 'Antony and Cleopatra' 'Balto'\n",
      " 'Batman' 'Born to Ride' 'Charlie and the Chocolate Factory'\n",
      " 'Chasing Liberty' 'Country of My Skull' 'Cry Freedom' 'Erased'\n",
      " 'Fade to Black' 'Finding Rin Tin Tin' 'Is Anybody There?'\n",
      " 'Malice in Wonderland' 'Me and Orson Welles' 'Monsters of the Id'\n",
      " 'Murder Story' 'Ninja' 'Nowhere to Hide' 'One Plus One' 'RED 2'\n",
      " 'Rolling Vengeance' 'Rupan sansei' 'Some Kind of Hero' 'Spy Game'\n",
      " 'Taking Sides' 'The Fourth Angel' 'The Jacket' 'The Message'\n",
      " 'The Spy Who Loved Me' 'The Walker' 'The War of the Starfighters'\n",
      " 'Venus Senki' 'Yapian zhanzheng' 'Zwartboek' 'Back to the Sea'\n",
      " 'Batman: Mask of the Phantasm' 'Batman: The Killing Joke' 'Brigsby Bear'\n",
      " 'Bunyan and Babe' 'Con Man' 'Corvette Summer' 'Guyver' 'Hamilton'\n",
      " 'Howard Lovecraft & the Undersea Kingdom'\n",
      " 'Jay and Silent Bob Strike Back' 'Kaze no tani no Naushika'\n",
      " 'Kingsman: The Secret Service' 'La chute des aigles' 'Laserhawk'\n",
      " 'Quantum Quest: A Cassini Space Odyssey' 'Reeseville' 'Repetition (II)'\n",
      " 'Robotech: The Shadow Chronicles' 'Silk Degrees'\n",
      " 'Sinbad: Beyond the Veil of Mists' 'Slipstream' 'Star Wars: Episode IX'\n",
      " 'Sushi Girl' 'Terra' 'Thank You, Good Night' 'The Big Red One'\n",
      " 'The Night the Lights Went Out in Georgia' 'The Raffle'\n",
      " 'Thru the Moebius Strip' 'Time Runner' 'Virtually Heroes'\n",
      " 'Walking Across Egypt' 'Wing Commander' 'Wizards'\n",
      " \"Wolf Tracer's Dinosaur Island\" 'Octopussy'\n",
      " \"On Her Majesty's Secret Service\" 'See No Evil'\n",
      " 'A Countess from Hong Kong' 'Bullshot' 'Carry on Matron'\n",
      " 'Morons from Outer Space' 'One of Our Dinosaurs Is Missing'\n",
      " 'Operation Crossbow' 'Squeeze Play' 'The Dirty Dozen'\n",
      " 'The Living Daylights' 'The Night of the Generals' 'Young Winston'\n",
      " \"A Midsummer Night's Dream\" 'As You Like It' 'Blanc de Chine' 'Brazil'\n",
      " 'Callan' 'Carry on Columbus' \"How's Business\" 'No Escape'\n",
      " 'Preaching to the Perverted' 'Tank Malling'\n",
      " 'The Adventures of Baron Munchausen' 'The Big Sleep' 'The Fool'\n",
      " 'The Prince and the Pauper' 'The Trial' 'The Wind in the Willows'\n",
      " 'White Angel' '633 Squadron' 'Heavens Above!' 'Hell Boats'\n",
      " \"Mrs. Brown, You've Got a Lovely Daughter\" 'Nothing But the Best'\n",
      " 'Puppet on a Chain' 'Quest for Love' 'The Alphabet Murders'\n",
      " 'When Dinosaurs Ruled the Earth' 'Blue Ice' 'Dot.Kill' 'Enemy Mine'\n",
      " 'Half Moon Street' 'Safari 3000' 'The Black Windmill'\n",
      " \"The Film-Maker's Son\" 'A River Runs Through It' 'Bad Timing'\n",
      " 'Colour Me Kubrick: A True...ish Story' 'Crusoe'\n",
      " 'Curse of the Pink Panther' 'Dear Wendy'\n",
      " 'Die unendliche Geschichte III: Rettung aus Phantasien' 'Dreamchild'\n",
      " 'Gospa' 'Hardware' 'Haunted Honeymoon' 'Hear My Song' 'Hussy'\n",
      " 'Something to Believe In' 'Sphinx' 'The Cement Garden'\n",
      " 'The Lady Vanishes' 'The Miracle Maker' 'The Omega Code'\n",
      " 'The Pope Must Die' 'This World, Then the Fireworks' 'Town & Country'\n",
      " 'Trail of the Pink Panther' 'Water' 'White Nights' 'Zina'\n",
      " 'Murder Most Foul' 'On the Game' 'The Breaking Point'\n",
      " 'The Passionate Stranger' 'Whirlpool' 'The Lawful Truth' 'A Family Thing'\n",
      " \"A Mime's Life\" 'A Piece of the Action'\n",
      " 'Allan Quatermain and the Lost City of Gold' 'Best of the Best'\n",
      " 'City Limits' 'Claudine' 'Clean Slate' 'Click' 'Coming to America'\n",
      " 'Conan the Barbarian' 'Convicts' 'Cry, the Beloved Country' 'Deadly Hero'\n",
      " 'Dr. Strangelove or: How I Learned to Stop Worrying and Love the Bomb'\n",
      " 'Dreamrider' 'Driving Miss Daisy' 'End of the Road' 'Excessive Force'\n",
      " 'Field of Dreams' \"Finder's Fee\" 'Freddie as F.R.O.7.' 'Gang Related'\n",
      " 'Gardens of Stone' 'Gimme Shelter' 'Good Luck' 'Jack and the Beanstalk'\n",
      " 'Jefferson in Paris' 'Judge Dredd' 'Matewan' 'My Little Girl'\n",
      " 'Naked Gun 33 1/3: The Final Insult' 'On the Q.T.'\n",
      " 'Pinocchio and the Emperor of the Night' 'Primary Colors'\n",
      " 'Ramayana: The Legend of Prince Rama' 'Robots' 'Scary Movie 4'\n",
      " 'Scorchers' 'Sneakers' 'Sommersby' 'Soul Man' 'Swashbuckler'\n",
      " 'The Angriest Man in Brooklyn' 'The Annihilation of Fish'\n",
      " 'The Benchwarmers' 'The Bingo Long Traveling All-Stars & Motor Kings'\n",
      " 'The Bushido Blade' 'The Great White Hope' 'The Greatest'\n",
      " 'The Hunt for Red October' 'The Last Remake of Beau Geste'\n",
      " 'The Lion King' 'The Man' 'The Meteor Man' 'The River Niger'\n",
      " 'The Sandlot' 'Three Fugitives' 'True Identity' 'Undercover Angel'\n",
      " 'Warning Shot' 'Welcome Home, Roscoe Jenkins' '1871' 'Elemental Storage'\n",
      " 'For Your Eyes Only' 'Hotet' 'King David' 'The Killing Edge'\n",
      " 'The Spaceman and King Arthur' 'Local Hero' 'Perfect Sense' 'Providence'\n",
      " 'The Chain' 'The Machine' 'The Ride (II)' 'The Wee Man'\n",
      " \"Blind Man's Bluff\" 'Rollerball' 'Silver Dream Racer' 'Stardust'\n",
      " 'The Berlin Conspiracy' 'The Music Machine' 'The People That Time Forgot'\n",
      " 'Who Framed Roger Rabbit' 'A Prayer for the Dying' 'Absolute Beginners'\n",
      " 'Castaway' 'Death Wish 3' 'Defence of the Realm' 'Gandhi'\n",
      " 'Give My Regards to Broad Street' 'GoldenEye'\n",
      " 'Greystoke: The Legend of Tarzan, Lord of the Apes' 'Krull'\n",
      " 'Personal Services' 'Richard III' 'Supergirl' 'Superman III' 'Tabloid'\n",
      " 'The Lords of Discipline' \"The Mirror Crack'd\" 'The Missionary'\n",
      " \"The Razor's Edge\" 'The Return of the Soldier' 'The Tall Guy'\n",
      " 'The Young Visiters' 'Yentl' 'Z-Listers' 'Amen.' 'Atlantic City, USA'\n",
      " 'Bedroom Eyes' 'Best Revenge' 'Captain Phillips' 'Dirty Tricks' 'Enigma'\n",
      " 'Eyes Wide Shut' 'Gross Anatomy' 'Honor Bound'\n",
      " 'If You Could See What I Hear' 'Nothing Personal'\n",
      " 'Operation Delta Force 4: Deep Fault' 'Outland' 'Rhythm & Blues'\n",
      " 'Spies Inc.' 'The 51st State'\n",
      " 'The Adventures of Bob & Doug McKenzie: Strange Brew' 'The Black Dahlia'\n",
      " 'The Krays' 'A Night to Remember' 'Carry on Camping' 'Carry on Girls'\n",
      " \"Carry On... Don't Lose Your Head\" 'Catch Us If You Can'\n",
      " \"Don't Raise the Bridge, Lower the River\" 'Dragonslayer'\n",
      " 'From Russia with Love' \"Gideon's Day\" 'The Fast Lady'\n",
      " 'The Frightened City' 'The Lyons in Paris' 'The Password Is Courage'\n",
      " 'The Sheriff of Fractured Jaw' 'The Wrong Box' 'Two Way Stretch'\n",
      " 'Wicked as They Come' 'Fanboys' 'Sinbad and the Eye of the Tiger'\n",
      " 'Yesterday Was a Lie' 'Comrades' 'Depth Charge' 'Eye of the Needle'\n",
      " 'Geordie' 'I Believe in You' 'The House in the Square' 'The Kidnappers'\n",
      " 'The Peregrine Hunters' 'The Private Life of Sherlock Holmes'\n",
      " 'Escape from Safehaven' 'Mob Queen' 'Nemo' \"Nobody's Fool\"\n",
      " 'A Clockwork Orange' 'Black Snake' 'Casino Royale' 'Col cuore in gola'\n",
      " 'Confessions of a Pop Performer' 'Crossplot' 'Hammerhead' 'Jabberwocky'\n",
      " \"Open Mic'rs\" \"Saving 'Star Wars'\" 'The Best of Benny Hill'\n",
      " 'The Kindness of Strangers' 'Up Pompeii' 'Up the Chastity Belt'\n",
      " 'White Cargo' 'The Dark Crystal' 'A Dangerous Age'\n",
      " \"A Kid in King Arthur's Court\" 'A Kiss Before Dying' 'Alien Autopsy'\n",
      " 'Batman Begins' 'Company Business' 'Diamonds Are Forever'\n",
      " 'Flaming Frontier' 'Julia' 'La morte viene dallo spazio'\n",
      " 'Live and Let Die' 'Lovelorn' 'Mee-Shee: The Water Giant' 'Nasty Habits'\n",
      " 'One of the Hollywood Ten' 'Out of Africa' 'Piccolo grande amore'\n",
      " 'Priest of Love' 'S*P*Y*S' 'Scorpio' 'Space Truckers'\n",
      " \"The 'Human' Factor\" 'The Dogs of War' 'The Lonely Lady' 'Thunderbird 6'\n",
      " 'Thunderbirds Are GO' 'Warlords of Atlantis' 'Whoops Apocalypse'\n",
      " 'Year of the Comet' 'You Only Live Twice' 'Blind Date' \"Dad's Army\"\n",
      " 'Submarine X-1' 'The Games' 'The One That Got Away' 'The Victors'\n",
      " 'Clockwise' 'The Glitterball' 'The Ruling Class' 'The Wild Geese'\n",
      " 'Twinky' 'Villain' 'Ascendancy' 'Chariots of Fire' \"Doll's Eye\"\n",
      " 'Let Him Have It' 'Madame Sousatzka' 'Rosie Dixon - Night Nurse'\n",
      " 'The Innocent' 'The Object of Beauty' 'Bush Christmas' 'Color Me Dead'\n",
      " 'Ektopos' 'Middle Age Spread' 'Ned Kelly' 'Run Rebecca, Run!'\n",
      " 'Ryder Country' 'The Chant of Jimmie Blacksmith'\n",
      " 'The King of the Two Day Wonder' \"They're a Weird Mob\" 'The Fluffer'\n",
      " 'All Neat in Black Stockings' 'Braveheart' 'Family Life'\n",
      " 'In the Name of the Father' 'L.A. Without a Map' 'Shiner' 'The 14'\n",
      " 'The Final Curtain' 'The Saint' 'The Smoke' '2001: A Space Odyssey'\n",
      " 'Dateline Diamonds' 'Finders Keepers' 'Mr. Forbush and the Penguins'\n",
      " 'The Last Minute' 'U-571' 'W.M.D.' 'Bucktown' 'Die Laughing' 'Klansman'\n",
      " 'Loose Shoes' 'Massive Retaliation' 'No Small Affair'\n",
      " 'Peggy Sue Got Married' 'Shoot the Moon' 'Space Is the Place'\n",
      " 'Steelyard Blues' 'Sudden Impact' 'The Big Bus' 'The Candidate'\n",
      " \"The Spirit of '76\" 'The Survivors' 'Freebie and the Bean' 'The Enforcer'\n",
      " 'The Promise' 'Enduring Love' 'Saving Grace' 'The Oxford Murders'\n",
      " \"A Hard Day's Night\" 'A Kind of Loving' 'A Study in Terror'\n",
      " 'Adam and Evelyne' 'And Now for Something Completely Different'\n",
      " 'Band of Thieves' 'Beau Brummell' 'Becket' 'Billy Budd' 'Blowup'\n",
      " 'Car Trouble' 'Carry on at Your Convenience' 'Champions'\n",
      " 'Charlie Bubbles' 'Clash of the Titans' 'Crooks Anonymous'\n",
      " 'Digby, the Biggest Dog in the World' 'Doomwatch' 'Father Came Too!'\n",
      " 'Feast of July' 'Gaiety George' 'Henry V' 'Herostratus' 'Hide and Seek'\n",
      " 'I Could Go on Singing' 'I Thank a Fool'\n",
      " \"I'll Never Forget What's'isname\" \"I've Gotta Horse\" 'Joey Boy'\n",
      " \"Lady Chatterley's Lover\" 'Love Thy Neighbour' 'Mister Ten Per Cent'\n",
      " 'Nineteen Eighty-Four' 'On the Fiddle' 'Piccadilly Incident'\n",
      " 'Press for Time' 'Robbery' 'Robin Hood: Prince of Thieves'\n",
      " 'Rotten to the Core' 'Santa Claus: The Movie' 'Siege of the Saxons'\n",
      " 'Steptoe and Son Ride Again' 'Stranger in the House' \"Strangler's Web\"\n",
      " \"The Adventure of Sherlock Holmes' Smarter Brother\"\n",
      " 'The Alf Garnett Saga' 'The Amazing Mr. Blunden' 'The Anniversary'\n",
      " 'The Dock Brief' 'The Girl on the Boat' 'The Heroes of Telemark'\n",
      " 'The Hour of the Pig' 'The L-Shaped Room' 'The Liquidator'\n",
      " 'The List of Adrian Messenger' 'The Master of Bankdam'\n",
      " 'The Mouse on the Moon' 'The Mouse That Roared' 'The Offence'\n",
      " 'The Raging Moon' 'The Rise and Rise of Michael Rimmer'\n",
      " 'The Secret Agent' 'The Secret of Blood Island'\n",
      " 'The Small World of Sammy Lee' 'Three Hats for Lisa'\n",
      " 'Till Death Us Do Part' 'Two and Two Make Six'\n",
      " 'Una lucertola con la pelle di donna' 'What a Whopper' 'Withnail & I'\n",
      " 'Yangtse Incident: The Story of H.M.S. Amethyst' 'Young Sherlock Holmes'\n",
      " 'City on Fire' 'For Those Who Think Young' 'Love Me Like I Do'\n",
      " 'Nightmare in the Sun' 'Street Wars' 'The Cremators'\n",
      " 'Secrets of a Windmill Girl' \"A Midsummer Night's Rave\"\n",
      " 'Appointment with Death' 'Austin Powers: International Man of Mystery'\n",
      " \"Charlie's Angels: Full Throttle\" 'Cougar Club' 'Drop Dead Fred'\n",
      " 'Garbo Talks' 'Hannah and Her Sisters' 'Heartbreakers'\n",
      " 'Hollywood Vice Squad' 'Hook' 'Lisa Picard Is Famous' 'Loverboy'\n",
      " 'Maps to the Stars' \"Mr. Mike's Mondo Video\" 'Shampoo' \"She's Back\"\n",
      " 'Sibling Rivalry' 'Soapdish' \"Staar: She'd Rather Be a Mistress\"\n",
      " 'Star Wars: Episode VIII - The Last Jedi' 'Stateside' \"The 'Burbs\"\n",
      " 'The Blues Brothers' 'The Man with One Red Shoe' 'The Time Guardian'\n",
      " 'The Women' 'This Is My Life' 'Under the Rainbow' 'Undiscovered'\n",
      " 'When Harry Met Sally...' \"White Lightnin'\" 'Wonderland' 'Wonderwell'\n",
      " 'A Touch of Love' 'Esther Waters' 'Hope and Glory'\n",
      " 'I Live in Grosvenor Square' 'Meet Me at Dawn' 'Raising a Riot'\n",
      " 'Salute the Toff' 'Son of Robin Hood' 'Staircase'\n",
      " 'The History of Mr. Polly' 'The Last Man to Hang?' 'Trio'\n",
      " 'Two Gentlemen Sharing' 'Welcome, Mr. Washington' 'Your Witness'\n",
      " \"Bridget Jones's Diary\" 'De-Lovely' 'Die Another Day'\n",
      " 'Four Weddings and a Funeral' 'Strike It Rich' 'Tommy' 'Astro Boy'\n",
      " 'Detenute violente' 'Felony' 'Perverse oltre le sbarre' \"A Doll's House\"\n",
      " 'Are You Being Served?' 'Confessions from a Holiday Camp'\n",
      " 'Death Defying Acts' 'George and Mildred' 'International Velvet'\n",
      " 'Miss Pettigrew Lives for a Day' 'Miss Potter'\n",
      " \"No Sex Please: We're British\"]\n"
     ]
    }
   ],
   "source": [
    "\n",
    "star_wars_actors = cast[cast['title'] == 'Star Wars']['name'].unique()\n",
    "\n",
    "\n",
    "subsequent_films = cast[cast['name'].isin(star_wars_actors) & (cast['title'] != 'Star Wars')]\n",
    "\n",
    "\n",
    "print(\"Films that actors in Star Wars went on to appear in:\")\n",
    "print(subsequent_films['title'].unique())"
   ]
  },
  {
   "cell_type": "code",
   "execution_count": null,
   "id": "2de76e6c",
   "metadata": {},
   "outputs": [],
   "source": []
  },
  {
   "cell_type": "code",
   "execution_count": null,
   "id": "635a9ee8",
   "metadata": {},
   "outputs": [],
   "source": []
  },
  {
   "cell_type": "code",
   "execution_count": null,
   "id": "1762c0a1",
   "metadata": {},
   "outputs": [],
   "source": []
  },
  {
   "cell_type": "code",
   "execution_count": null,
   "id": "8b6f7141",
   "metadata": {},
   "outputs": [],
   "source": []
  },
  {
   "cell_type": "code",
   "execution_count": 28,
   "id": "e22176a8",
   "metadata": {},
   "outputs": [
    {
     "data": {
      "text/html": [
       "<div>\n",
       "<style scoped>\n",
       "    .dataframe tbody tr th:only-of-type {\n",
       "        vertical-align: middle;\n",
       "    }\n",
       "\n",
       "    .dataframe tbody tr th {\n",
       "        vertical-align: top;\n",
       "    }\n",
       "\n",
       "    .dataframe thead th {\n",
       "        text-align: right;\n",
       "    }\n",
       "</style>\n",
       "<table border=\"1\" class=\"dataframe\">\n",
       "  <thead>\n",
       "    <tr style=\"text-align: right;\">\n",
       "      <th></th>\n",
       "      <th>title</th>\n",
       "      <th>year</th>\n",
       "      <th>name</th>\n",
       "      <th>type</th>\n",
       "      <th>character</th>\n",
       "      <th>n</th>\n",
       "    </tr>\n",
       "  </thead>\n",
       "  <tbody>\n",
       "    <tr>\n",
       "      <th>0</th>\n",
       "      <td>Closet Monster</td>\n",
       "      <td>2015</td>\n",
       "      <td>Buffy #1</td>\n",
       "      <td>actor</td>\n",
       "      <td>Buffy 4</td>\n",
       "      <td>31.0</td>\n",
       "    </tr>\n",
       "    <tr>\n",
       "      <th>1</th>\n",
       "      <td>Suuri illusioni</td>\n",
       "      <td>1985</td>\n",
       "      <td>Homo $</td>\n",
       "      <td>actor</td>\n",
       "      <td>Guests</td>\n",
       "      <td>22.0</td>\n",
       "    </tr>\n",
       "    <tr>\n",
       "      <th>2</th>\n",
       "      <td>Battle of the Sexes</td>\n",
       "      <td>2017</td>\n",
       "      <td>$hutter</td>\n",
       "      <td>actor</td>\n",
       "      <td>Bobby Riggs Fan</td>\n",
       "      <td>10.0</td>\n",
       "    </tr>\n",
       "    <tr>\n",
       "      <th>3</th>\n",
       "      <td>Secret in Their Eyes</td>\n",
       "      <td>2015</td>\n",
       "      <td>$hutter</td>\n",
       "      <td>actor</td>\n",
       "      <td>2002 Dodger Fan</td>\n",
       "      <td>NaN</td>\n",
       "    </tr>\n",
       "    <tr>\n",
       "      <th>4</th>\n",
       "      <td>Steve Jobs</td>\n",
       "      <td>2015</td>\n",
       "      <td>$hutter</td>\n",
       "      <td>actor</td>\n",
       "      <td>1988 Opera House Patron</td>\n",
       "      <td>NaN</td>\n",
       "    </tr>\n",
       "    <tr>\n",
       "      <th>...</th>\n",
       "      <td>...</td>\n",
       "      <td>...</td>\n",
       "      <td>...</td>\n",
       "      <td>...</td>\n",
       "      <td>...</td>\n",
       "      <td>...</td>\n",
       "    </tr>\n",
       "    <tr>\n",
       "      <th>3442897</th>\n",
       "      <td>Foxtrot</td>\n",
       "      <td>1988</td>\n",
       "      <td>Lilja Þórisdóttir</td>\n",
       "      <td>actress</td>\n",
       "      <td>Dóra</td>\n",
       "      <td>24.0</td>\n",
       "    </tr>\n",
       "    <tr>\n",
       "      <th>3442898</th>\n",
       "      <td>Niceland (Population. 1.000.002)</td>\n",
       "      <td>2004</td>\n",
       "      <td>Sigríður Jóna Þórisdóttir</td>\n",
       "      <td>actress</td>\n",
       "      <td>Woman in Bus</td>\n",
       "      <td>26.0</td>\n",
       "    </tr>\n",
       "    <tr>\n",
       "      <th>3442899</th>\n",
       "      <td>Skammdegi</td>\n",
       "      <td>1985</td>\n",
       "      <td>Dalla Þórðardóttir</td>\n",
       "      <td>actress</td>\n",
       "      <td>Hjúkrunarkona</td>\n",
       "      <td>9.0</td>\n",
       "    </tr>\n",
       "    <tr>\n",
       "      <th>3442900</th>\n",
       "      <td>U.S.S.S.S...</td>\n",
       "      <td>2003</td>\n",
       "      <td>Kristín Andrea Þórðardóttir</td>\n",
       "      <td>actress</td>\n",
       "      <td>Afgr.dama á bensínstöð</td>\n",
       "      <td>17.0</td>\n",
       "    </tr>\n",
       "    <tr>\n",
       "      <th>3442901</th>\n",
       "      <td>Bye Bye Blue Bird</td>\n",
       "      <td>1999</td>\n",
       "      <td>Rosa á Rógvu</td>\n",
       "      <td>actress</td>\n",
       "      <td>Pensionatværtinde</td>\n",
       "      <td>NaN</td>\n",
       "    </tr>\n",
       "  </tbody>\n",
       "</table>\n",
       "<p>3442902 rows × 6 columns</p>\n",
       "</div>"
      ],
      "text/plain": [
       "                                    title  year                         name  \\\n",
       "0                          Closet Monster  2015                     Buffy #1   \n",
       "1                         Suuri illusioni  1985                       Homo $   \n",
       "2                     Battle of the Sexes  2017                      $hutter   \n",
       "3                    Secret in Their Eyes  2015                      $hutter   \n",
       "4                              Steve Jobs  2015                      $hutter   \n",
       "...                                   ...   ...                          ...   \n",
       "3442897                           Foxtrot  1988            Lilja Þórisdóttir   \n",
       "3442898  Niceland (Population. 1.000.002)  2004    Sigríður Jóna Þórisdóttir   \n",
       "3442899                         Skammdegi  1985           Dalla Þórðardóttir   \n",
       "3442900                      U.S.S.S.S...  2003  Kristín Andrea Þórðardóttir   \n",
       "3442901                 Bye Bye Blue Bird  1999                 Rosa á Rógvu   \n",
       "\n",
       "            type                character     n  \n",
       "0          actor                  Buffy 4  31.0  \n",
       "1          actor                   Guests  22.0  \n",
       "2          actor          Bobby Riggs Fan  10.0  \n",
       "3          actor          2002 Dodger Fan   NaN  \n",
       "4          actor  1988 Opera House Patron   NaN  \n",
       "...          ...                      ...   ...  \n",
       "3442897  actress                     Dóra  24.0  \n",
       "3442898  actress             Woman in Bus  26.0  \n",
       "3442899  actress            Hjúkrunarkona   9.0  \n",
       "3442900  actress   Afgr.dama á bensínstöð  17.0  \n",
       "3442901  actress        Pensionatværtinde   NaN  \n",
       "\n",
       "[3442902 rows x 6 columns]"
      ]
     },
     "execution_count": 28,
     "metadata": {},
     "output_type": "execute_result"
    }
   ],
   "source": [
    "cast"
   ]
  },
  {
   "cell_type": "code",
   "execution_count": 29,
   "id": "0b980c99",
   "metadata": {},
   "outputs": [
    {
     "data": {
      "text/html": [
       "<div>\n",
       "<style scoped>\n",
       "    .dataframe tbody tr th:only-of-type {\n",
       "        vertical-align: middle;\n",
       "    }\n",
       "\n",
       "    .dataframe tbody tr th {\n",
       "        vertical-align: top;\n",
       "    }\n",
       "\n",
       "    .dataframe thead th {\n",
       "        text-align: right;\n",
       "    }\n",
       "</style>\n",
       "<table border=\"1\" class=\"dataframe\">\n",
       "  <thead>\n",
       "    <tr style=\"text-align: right;\">\n",
       "      <th></th>\n",
       "      <th>title</th>\n",
       "      <th>year</th>\n",
       "      <th>country</th>\n",
       "      <th>date</th>\n",
       "    </tr>\n",
       "  </thead>\n",
       "  <tbody>\n",
       "    <tr>\n",
       "      <th>0</th>\n",
       "      <td>#73, Shaanthi Nivaasa</td>\n",
       "      <td>2007</td>\n",
       "      <td>India</td>\n",
       "      <td>2007-06-15</td>\n",
       "    </tr>\n",
       "    <tr>\n",
       "      <th>1</th>\n",
       "      <td>#BKKY</td>\n",
       "      <td>2016</td>\n",
       "      <td>Cambodia</td>\n",
       "      <td>2017-10-12</td>\n",
       "    </tr>\n",
       "    <tr>\n",
       "      <th>2</th>\n",
       "      <td>#Beings</td>\n",
       "      <td>2015</td>\n",
       "      <td>Romania</td>\n",
       "      <td>2015-01-29</td>\n",
       "    </tr>\n",
       "    <tr>\n",
       "      <th>3</th>\n",
       "      <td>#Captured</td>\n",
       "      <td>2017</td>\n",
       "      <td>USA</td>\n",
       "      <td>2017-09-05</td>\n",
       "    </tr>\n",
       "    <tr>\n",
       "      <th>4</th>\n",
       "      <td>#Ewankosau saranghaeyo</td>\n",
       "      <td>2015</td>\n",
       "      <td>Philippines</td>\n",
       "      <td>2015-01-21</td>\n",
       "    </tr>\n",
       "    <tr>\n",
       "      <th>...</th>\n",
       "      <td>...</td>\n",
       "      <td>...</td>\n",
       "      <td>...</td>\n",
       "      <td>...</td>\n",
       "    </tr>\n",
       "    <tr>\n",
       "      <th>443481</th>\n",
       "      <td>xXx: State of the Union</td>\n",
       "      <td>2005</td>\n",
       "      <td>Uruguay</td>\n",
       "      <td>2005-04-29</td>\n",
       "    </tr>\n",
       "    <tr>\n",
       "      <th>443482</th>\n",
       "      <td>xXx: State of the Union</td>\n",
       "      <td>2005</td>\n",
       "      <td>Poland</td>\n",
       "      <td>2005-06-03</td>\n",
       "    </tr>\n",
       "    <tr>\n",
       "      <th>443483</th>\n",
       "      <td>xXx: State of the Union</td>\n",
       "      <td>2005</td>\n",
       "      <td>Turkey</td>\n",
       "      <td>2005-06-03</td>\n",
       "    </tr>\n",
       "    <tr>\n",
       "      <th>443484</th>\n",
       "      <td>xXx: State of the Union</td>\n",
       "      <td>2005</td>\n",
       "      <td>China</td>\n",
       "      <td>2005-06-17</td>\n",
       "    </tr>\n",
       "    <tr>\n",
       "      <th>443485</th>\n",
       "      <td>xXx: State of the Union</td>\n",
       "      <td>2005</td>\n",
       "      <td>Greece</td>\n",
       "      <td>2005-06-24</td>\n",
       "    </tr>\n",
       "  </tbody>\n",
       "</table>\n",
       "<p>443486 rows × 4 columns</p>\n",
       "</div>"
      ],
      "text/plain": [
       "                          title  year      country        date\n",
       "0         #73, Shaanthi Nivaasa  2007        India  2007-06-15\n",
       "1                         #BKKY  2016     Cambodia  2017-10-12\n",
       "2                       #Beings  2015      Romania  2015-01-29\n",
       "3                     #Captured  2017          USA  2017-09-05\n",
       "4        #Ewankosau saranghaeyo  2015  Philippines  2015-01-21\n",
       "...                         ...   ...          ...         ...\n",
       "443481  xXx: State of the Union  2005      Uruguay  2005-04-29\n",
       "443482  xXx: State of the Union  2005       Poland  2005-06-03\n",
       "443483  xXx: State of the Union  2005       Turkey  2005-06-03\n",
       "443484  xXx: State of the Union  2005        China  2005-06-17\n",
       "443485  xXx: State of the Union  2005       Greece  2005-06-24\n",
       "\n",
       "[443486 rows x 4 columns]"
      ]
     },
     "execution_count": 29,
     "metadata": {},
     "output_type": "execute_result"
    }
   ],
   "source": [
    "release_dates"
   ]
  },
  {
   "cell_type": "code",
   "execution_count": 30,
   "id": "82828aa3",
   "metadata": {},
   "outputs": [
    {
     "data": {
      "text/html": [
       "<div>\n",
       "<style scoped>\n",
       "    .dataframe tbody tr th:only-of-type {\n",
       "        vertical-align: middle;\n",
       "    }\n",
       "\n",
       "    .dataframe tbody tr th {\n",
       "        vertical-align: top;\n",
       "    }\n",
       "\n",
       "    .dataframe thead th {\n",
       "        text-align: right;\n",
       "    }\n",
       "</style>\n",
       "<table border=\"1\" class=\"dataframe\">\n",
       "  <thead>\n",
       "    <tr style=\"text-align: right;\">\n",
       "      <th></th>\n",
       "      <th>title</th>\n",
       "      <th>year</th>\n",
       "      <th>decade</th>\n",
       "    </tr>\n",
       "  </thead>\n",
       "  <tbody>\n",
       "    <tr>\n",
       "      <th>0</th>\n",
       "      <td>Ankara ekspresi</td>\n",
       "      <td>1952</td>\n",
       "      <td>1950</td>\n",
       "    </tr>\n",
       "    <tr>\n",
       "      <th>1</th>\n",
       "      <td>Ans Vaterland, ans teure</td>\n",
       "      <td>1915</td>\n",
       "      <td>1910</td>\n",
       "    </tr>\n",
       "    <tr>\n",
       "      <th>2</th>\n",
       "      <td>Miss Mohini</td>\n",
       "      <td>2002</td>\n",
       "      <td>2000</td>\n",
       "    </tr>\n",
       "    <tr>\n",
       "      <th>3</th>\n",
       "      <td>La vera madre</td>\n",
       "      <td>1999</td>\n",
       "      <td>1990</td>\n",
       "    </tr>\n",
       "    <tr>\n",
       "      <th>4</th>\n",
       "      <td>O Amerikanos</td>\n",
       "      <td>1993</td>\n",
       "      <td>1990</td>\n",
       "    </tr>\n",
       "    <tr>\n",
       "      <th>...</th>\n",
       "      <td>...</td>\n",
       "      <td>...</td>\n",
       "      <td>...</td>\n",
       "    </tr>\n",
       "    <tr>\n",
       "      <th>226008</th>\n",
       "      <td>Armageddon</td>\n",
       "      <td>1969</td>\n",
       "      <td>1960</td>\n",
       "    </tr>\n",
       "    <tr>\n",
       "      <th>226009</th>\n",
       "      <td>Verit i znat</td>\n",
       "      <td>1986</td>\n",
       "      <td>1980</td>\n",
       "    </tr>\n",
       "    <tr>\n",
       "      <th>226010</th>\n",
       "      <td>Muukalainen</td>\n",
       "      <td>2008</td>\n",
       "      <td>2000</td>\n",
       "    </tr>\n",
       "    <tr>\n",
       "      <th>226011</th>\n",
       "      <td>Byeolmyeongbuteun unjeonsa</td>\n",
       "      <td>1977</td>\n",
       "      <td>1970</td>\n",
       "    </tr>\n",
       "    <tr>\n",
       "      <th>226012</th>\n",
       "      <td>Red Headed Woman</td>\n",
       "      <td>1932</td>\n",
       "      <td>1930</td>\n",
       "    </tr>\n",
       "  </tbody>\n",
       "</table>\n",
       "<p>226013 rows × 3 columns</p>\n",
       "</div>"
      ],
      "text/plain": [
       "                             title  year  decade\n",
       "0                  Ankara ekspresi  1952    1950\n",
       "1         Ans Vaterland, ans teure  1915    1910\n",
       "2                      Miss Mohini  2002    2000\n",
       "3                    La vera madre  1999    1990\n",
       "4                     O Amerikanos  1993    1990\n",
       "...                            ...   ...     ...\n",
       "226008                  Armageddon  1969    1960\n",
       "226009                Verit i znat  1986    1980\n",
       "226010                 Muukalainen  2008    2000\n",
       "226011  Byeolmyeongbuteun unjeonsa  1977    1970\n",
       "226012            Red Headed Woman  1932    1930\n",
       "\n",
       "[226013 rows x 3 columns]"
      ]
     },
     "execution_count": 30,
     "metadata": {},
     "output_type": "execute_result"
    }
   ],
   "source": [
    "titles"
   ]
  }
 ],
 "metadata": {
  "kernelspec": {
   "display_name": "Python 3 (ipykernel)",
   "language": "python",
   "name": "python3"
  },
  "language_info": {
   "codemirror_mode": {
    "name": "ipython",
    "version": 3
   },
   "file_extension": ".py",
   "mimetype": "text/x-python",
   "name": "python",
   "nbconvert_exporter": "python",
   "pygments_lexer": "ipython3",
   "version": "3.11.3"
  }
 },
 "nbformat": 4,
 "nbformat_minor": 5
}
