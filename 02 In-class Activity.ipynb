{
 "cells": [
  {
   "cell_type": "code",
   "execution_count": null,
   "id": "08b634ef",
   "metadata": {},
   "outputs": [],
   "source": []
  },
  {
   "cell_type": "code",
   "execution_count": null,
   "id": "f3f744ab",
   "metadata": {},
   "outputs": [],
   "source": [
    "import pandas as pd "
   ]
  },
  {
   "cell_type": "code",
   "execution_count": null,
   "id": "351ed4ac",
   "metadata": {},
   "outputs": [],
   "source": [
    "# Load the dataset \n",
    "df = pd.read_csv(\"Wage.csv\")\n",
    "df"
   ]
  },
  {
   "cell_type": "code",
   "execution_count": null,
   "id": "ed87278f",
   "metadata": {},
   "outputs": [],
   "source": [
    "# Display the first 10 rows.\n",
    "df.head(10)"
   ]
  },
  {
   "cell_type": "code",
   "execution_count": null,
   "id": "c621d82e",
   "metadata": {},
   "outputs": [],
   "source": [
    "#Display the last ten rows\n",
    "df.tail(10)"
   ]
  },
  {
   "cell_type": "code",
   "execution_count": null,
   "id": "3199fa76",
   "metadata": {},
   "outputs": [],
   "source": [
    "#How many rows are in the DataFrame\n",
    "print(df.count())"
   ]
  },
  {
   "cell_type": "code",
   "execution_count": null,
   "id": "b4990531",
   "metadata": {},
   "outputs": [],
   "source": [
    "#Display the metadata for the DataFrame\n",
    "df.info()"
   ]
  },
  {
   "cell_type": "code",
   "execution_count": null,
   "id": "099c4ab5",
   "metadata": {},
   "outputs": [],
   "source": [
    "#Display the datatype for teo coumns from the dataset\n",
    "print(df[['age','region']].dtypes)\n"
   ]
  },
  {
   "cell_type": "code",
   "execution_count": null,
   "id": "e82f258e",
   "metadata": {},
   "outputs": [],
   "source": [
    "#Display the column names from the datset\n",
    "print(df.columns)"
   ]
  },
  {
   "cell_type": "code",
   "execution_count": null,
   "id": "300a6082",
   "metadata": {},
   "outputs": [],
   "source": [
    "#Display the DataFrame's Index\n",
    "\n",
    "print(df.index)"
   ]
  },
  {
   "cell_type": "code",
   "execution_count": null,
   "id": "24f8359b",
   "metadata": {},
   "outputs": [],
   "source": [
    "# How many indiviudal elements are in the DataFrame\n",
    "print(df.size)"
   ]
  },
  {
   "cell_type": "code",
   "execution_count": null,
   "id": "20b1c782",
   "metadata": {},
   "outputs": [],
   "source": [
    "#How many coulmns and rows are there?\n",
    "print(df.shape)"
   ]
  },
  {
   "cell_type": "code",
   "execution_count": null,
   "id": "81611bb4",
   "metadata": {},
   "outputs": [],
   "source": [
    "#Display descriptive statistics for the wage column, and the age column.\n",
    "print(df['wage'].describe())\n",
    "print(df['age'].describe())"
   ]
  },
  {
   "cell_type": "code",
   "execution_count": null,
   "id": "9154269f",
   "metadata": {},
   "outputs": [],
   "source": [
    "#Display descriptive statistics for the wage and age coulmns by each race\n",
    "print(df.groupby('race')[['wage','age']].describe())"
   ]
  },
  {
   "cell_type": "code",
   "execution_count": null,
   "id": "3e75eee1",
   "metadata": {},
   "outputs": [],
   "source": [
    "#What do the mean and median values of wage tell us about the data?\n",
    "print(df['wage'].mean())\n",
    "print('The average wage from the data set is 111.7 dollars between workers. ')\n",
    "print(df['wage'].median())\n",
    "print(' Means that 50% have less than 104.92 dollars while the other 50% have more or equal to 104.92.')"
   ]
  },
  {
   "cell_type": "code",
   "execution_count": null,
   "id": "a2b1ff11",
   "metadata": {},
   "outputs": [],
   "source": [
    "#Displat the age and wage columns only\n",
    "print(df[['age','wage']])"
   ]
  },
  {
   "cell_type": "code",
   "execution_count": null,
   "id": "93feed06",
   "metadata": {},
   "outputs": [],
   "source": [
    "#Are these columns correlated\n",
    "print(df[['age','wage']].corr())\n",
    "Print('No')"
   ]
  },
  {
   "cell_type": "code",
   "execution_count": null,
   "id": "d7db3424",
   "metadata": {},
   "outputs": [],
   "source": [
    "#Display the top 10 salaries\n",
    "print(df[['wage']].nlargest(10,'wage'))"
   ]
  },
  {
   "cell_type": "code",
   "execution_count": null,
   "id": "0543714e",
   "metadata": {},
   "outputs": [],
   "source": [
    "#Display the ounts of each race in the datset\n",
    "print(df['race'].value_counts())"
   ]
  },
  {
   "cell_type": "code",
   "execution_count": null,
   "id": "ec85ef90",
   "metadata": {},
   "outputs": [],
   "source": [
    "#Display the porportion of each race in the dataset\n",
    "print(df['race'].value_counts(normalize=True))"
   ]
  },
  {
   "cell_type": "code",
   "execution_count": null,
   "id": "bcc9911f",
   "metadata": {
    "scrolled": true
   },
   "outputs": [],
   "source": [
    "#Create a bar plot of regional proportionality \n",
    "import matplotlib.pyplot as plt\n",
    "df['race'].value_counts(normalize=True).plot(kind='bar')\n",
    "plt.title('Proportion of each race')\n",
    "plt.xlabel('Race','Proportion')\n",
    "plt.ylabel('Region)\n",
    "plt.show()\n",
    "           \n",
    "#having trouble showing regions. IT DOES show proportionality but overall, not by region"
   ]
  },
  {
   "cell_type": "code",
   "execution_count": null,
   "id": "ea3c1baa",
   "metadata": {},
   "outputs": [],
   "source": []
  },
  {
   "cell_type": "code",
   "execution_count": null,
   "id": "fb6e0601",
   "metadata": {},
   "outputs": [],
   "source": []
  },
  {
   "cell_type": "code",
   "execution_count": null,
   "id": "d1abfd43",
   "metadata": {},
   "outputs": [],
   "source": []
  }
 ],
 "metadata": {
  "kernelspec": {
   "display_name": "Python 3 (ipykernel)",
   "language": "python",
   "name": "python3"
  },
  "language_info": {
   "codemirror_mode": {
    "name": "ipython",
    "version": 3
   },
   "file_extension": ".py",
   "mimetype": "text/x-python",
   "name": "python",
   "nbconvert_exporter": "python",
   "pygments_lexer": "ipython3",
   "version": "3.11.3"
  }
 },
 "nbformat": 4,
 "nbformat_minor": 5
}
